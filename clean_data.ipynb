{
 "cells": [
  {
   "cell_type": "code",
   "execution_count": 1,
   "metadata": {},
   "outputs": [],
   "source": [
    "# Import libraries\n",
    "import os\n",
    "import numpy as np\n",
    "import pandas as pd"
   ]
  },
  {
   "cell_type": "code",
   "execution_count": 2,
   "metadata": {},
   "outputs": [
    {
     "output_type": "execute_result",
     "data": {
      "text/plain": "   age_min age_max  female  male       cpm                  hID        date\n0       18      24       0     1  3.678763  8910733059390721166  2018-10-02\n1       18      24       1     0  3.026950  8910733059390721166  2018-10-02\n2       18      24       1     1  3.114728  8910733059390721166  2018-10-02\n3       25      34       0     1  3.011565  8910733059390721166  2018-10-02\n4       25      34       1     0  4.032152  8910733059390721166  2018-10-02",
      "text/html": "<div>\n<style scoped>\n    .dataframe tbody tr th:only-of-type {\n        vertical-align: middle;\n    }\n\n    .dataframe tbody tr th {\n        vertical-align: top;\n    }\n\n    .dataframe thead th {\n        text-align: right;\n    }\n</style>\n<table border=\"1\" class=\"dataframe\">\n  <thead>\n    <tr style=\"text-align: right;\">\n      <th></th>\n      <th>age_min</th>\n      <th>age_max</th>\n      <th>female</th>\n      <th>male</th>\n      <th>cpm</th>\n      <th>hID</th>\n      <th>date</th>\n    </tr>\n  </thead>\n  <tbody>\n    <tr>\n      <th>0</th>\n      <td>18</td>\n      <td>24</td>\n      <td>0</td>\n      <td>1</td>\n      <td>3.678763</td>\n      <td>8910733059390721166</td>\n      <td>2018-10-02</td>\n    </tr>\n    <tr>\n      <th>1</th>\n      <td>18</td>\n      <td>24</td>\n      <td>1</td>\n      <td>0</td>\n      <td>3.026950</td>\n      <td>8910733059390721166</td>\n      <td>2018-10-02</td>\n    </tr>\n    <tr>\n      <th>2</th>\n      <td>18</td>\n      <td>24</td>\n      <td>1</td>\n      <td>1</td>\n      <td>3.114728</td>\n      <td>8910733059390721166</td>\n      <td>2018-10-02</td>\n    </tr>\n    <tr>\n      <th>3</th>\n      <td>25</td>\n      <td>34</td>\n      <td>0</td>\n      <td>1</td>\n      <td>3.011565</td>\n      <td>8910733059390721166</td>\n      <td>2018-10-02</td>\n    </tr>\n    <tr>\n      <th>4</th>\n      <td>25</td>\n      <td>34</td>\n      <td>1</td>\n      <td>0</td>\n      <td>4.032152</td>\n      <td>8910733059390721166</td>\n      <td>2018-10-02</td>\n    </tr>\n  </tbody>\n</table>\n</div>"
     },
     "metadata": {},
     "execution_count": 2
    }
   ],
   "source": [
    "# Import the CPM data\n",
    "cpm = pd.read_csv('data/cpm_estimates-15Apr19.csv')\n",
    "cpm.head()"
   ]
  },
  {
   "cell_type": "code",
   "execution_count": 3,
   "metadata": {},
   "outputs": [
    {
     "output_type": "execute_result",
     "data": {
      "text/plain": "   age_min  age_max  female  male       cpm                  hID       date  \\\n0       18       24       0     1  3.678763  8910733059390721166 2018-10-02   \n1       18       24       1     0  3.026950  8910733059390721166 2018-10-02   \n2       18       24       1     1  3.114728  8910733059390721166 2018-10-02   \n3       25       34       0     1  3.011565  8910733059390721166 2018-10-02   \n4       25       34       1     0  4.032152  8910733059390721166 2018-10-02   \n\n  age_group  gender   demographic  year  month  day  \n0     18-24    male    18-24 male  2018     10    2  \n1     18-24  female  18-24 female  2018     10    2  \n2     18-24  unisex  18-24 unisex  2018     10    2  \n3     25-34    male    25-34 male  2018     10    2  \n4     25-34  female  25-34 female  2018     10    2  ",
      "text/html": "<div>\n<style scoped>\n    .dataframe tbody tr th:only-of-type {\n        vertical-align: middle;\n    }\n\n    .dataframe tbody tr th {\n        vertical-align: top;\n    }\n\n    .dataframe thead th {\n        text-align: right;\n    }\n</style>\n<table border=\"1\" class=\"dataframe\">\n  <thead>\n    <tr style=\"text-align: right;\">\n      <th></th>\n      <th>age_min</th>\n      <th>age_max</th>\n      <th>female</th>\n      <th>male</th>\n      <th>cpm</th>\n      <th>hID</th>\n      <th>date</th>\n      <th>age_group</th>\n      <th>gender</th>\n      <th>demographic</th>\n      <th>year</th>\n      <th>month</th>\n      <th>day</th>\n    </tr>\n  </thead>\n  <tbody>\n    <tr>\n      <th>0</th>\n      <td>18</td>\n      <td>24</td>\n      <td>0</td>\n      <td>1</td>\n      <td>3.678763</td>\n      <td>8910733059390721166</td>\n      <td>2018-10-02</td>\n      <td>18-24</td>\n      <td>male</td>\n      <td>18-24 male</td>\n      <td>2018</td>\n      <td>10</td>\n      <td>2</td>\n    </tr>\n    <tr>\n      <th>1</th>\n      <td>18</td>\n      <td>24</td>\n      <td>1</td>\n      <td>0</td>\n      <td>3.026950</td>\n      <td>8910733059390721166</td>\n      <td>2018-10-02</td>\n      <td>18-24</td>\n      <td>female</td>\n      <td>18-24 female</td>\n      <td>2018</td>\n      <td>10</td>\n      <td>2</td>\n    </tr>\n    <tr>\n      <th>2</th>\n      <td>18</td>\n      <td>24</td>\n      <td>1</td>\n      <td>1</td>\n      <td>3.114728</td>\n      <td>8910733059390721166</td>\n      <td>2018-10-02</td>\n      <td>18-24</td>\n      <td>unisex</td>\n      <td>18-24 unisex</td>\n      <td>2018</td>\n      <td>10</td>\n      <td>2</td>\n    </tr>\n    <tr>\n      <th>3</th>\n      <td>25</td>\n      <td>34</td>\n      <td>0</td>\n      <td>1</td>\n      <td>3.011565</td>\n      <td>8910733059390721166</td>\n      <td>2018-10-02</td>\n      <td>25-34</td>\n      <td>male</td>\n      <td>25-34 male</td>\n      <td>2018</td>\n      <td>10</td>\n      <td>2</td>\n    </tr>\n    <tr>\n      <th>4</th>\n      <td>25</td>\n      <td>34</td>\n      <td>1</td>\n      <td>0</td>\n      <td>4.032152</td>\n      <td>8910733059390721166</td>\n      <td>2018-10-02</td>\n      <td>25-34</td>\n      <td>female</td>\n      <td>25-34 female</td>\n      <td>2018</td>\n      <td>10</td>\n      <td>2</td>\n    </tr>\n  </tbody>\n</table>\n</div>"
     },
     "metadata": {},
     "execution_count": 3
    }
   ],
   "source": [
    "# Clean the CPM data for EDA purposes\n",
    "def clean_cpm(data):\n",
    "    \n",
    "    # Extract demographic features\n",
    "    data['age_group'] = data['age_min'].astype('str') + '-' + data['age_max']\n",
    "    data.loc[data['female'] == 1, 'gender'] = 'female'\n",
    "    data.loc[data['male'] == 1, 'gender'] = 'male'\n",
    "    data.loc[(cpm['female'] == 1) & (data['male'] == 1), 'gender'] = 'unisex'\n",
    "    data['demographic'] = data['age_group'] + ' ' + data['gender']\n",
    "    data['date'] = pd.to_datetime(data['date'])\n",
    "\n",
    "    # Extract additional time features\n",
    "    data['year'] = data.date.dt.year\n",
    "    data['month'] = data.date.dt.month\n",
    "    data['day'] = data.date.dt.day\n",
    "\n",
    "    # Clean up the data for later Machine Learning\n",
    "    data['age_max'].replace({'65+':'65'},inplace=True)\n",
    "    data['age_max'] = data['age_max'].astype('int')\n",
    "    data['cpm'].replace({0:np.nan},inplace=True)\n",
    "    data['cpm'].fillna(value=data['cpm'].median(),inplace=True)\n",
    "    \n",
    "    return data\n",
    "\n",
    "# Create a new dataframe called cpm_eda\n",
    "cpm = clean_cpm(cpm)\n",
    "cpm.head()"
   ]
  },
  {
   "cell_type": "code",
   "execution_count": 9,
   "metadata": {},
   "outputs": [
    {
     "output_type": "stream",
     "name": "stdout",
     "text": "page_demo has 444 unique hIDs\npage_metrics has 597 unique hIDs\npage_metrics NOW has 444 unique hIDs\n"
    }
   ],
   "source": [
    "# Import the page level data\n",
    "files = [i for i in os.listdir('data') if 'csv' in i and 'sample' not in i and i.startswith('page')]\n",
    "\n",
    "# Concatenate all the imported data from the iteration\n",
    "page_metrics = pd.DataFrame()\n",
    "for file in files:\n",
    "    temp = pd.read_csv('data/'+file)\n",
    "    page_metrics = pd.concat([page_metrics,temp])\n",
    "\n",
    "# Filter the page level data to only include those with demographic features\n",
    "page_demo = page_metrics[page_metrics.name == 'page_impressions_by_age_gender_unique'].copy()\n",
    "page_demo.date = pd.to_datetime(page_demo.date)\n",
    "\n",
    "# Reduce the page_metrics data to have hIDs that have demographic features for later pipelining\n",
    "print(f'page_demo has {page_demo.hID.nunique()} unique hIDs')\n",
    "print(f'page_metrics has {page_metrics.hID.nunique()} unique hIDs')\n",
    "\n",
    "# Reduce page_metrics data to only include 444 hIDs that have demographic metrics data\n",
    "page_metrics = page_metrics[page_metrics.hID.isin(page_demo.hID.unique())]\n",
    "print(f'page_metrics NOW has {page_metrics.hID.nunique()} unique hIDs')"
   ]
  },
  {
   "cell_type": "code",
   "execution_count": 5,
   "metadata": {},
   "outputs": [
    {
     "output_type": "execute_result",
     "data": {
      "text/plain": "array(['page_fans_online', 'page_views', 'page_impressions_organic',\n       'page_video_views_paid', 'page_post_engagements',\n       'page_impressions_paid', 'page_posts_impressions_paid',\n       'page_cta_clicks_logged_in_total', 'page_impressions',\n       'page_posts_impressions_organic', 'page_video_views',\n       'page_posts_impressions', 'page_views_total',\n       'page_video_views_organic', 'page_impressions_by_city_unique',\n       'page_impressions_by_locale_unique',\n       'page_impressions_by_country_unique',\n       'page_impressions_by_age_gender_unique',\n       'page_views_by_age_gender_logged_in_unique'], dtype=object)"
     },
     "metadata": {},
     "execution_count": 5
    }
   ],
   "source": [
    "page_metrics.name.unique()"
   ]
  },
  {
   "cell_type": "code",
   "execution_count": 6,
   "metadata": {},
   "outputs": [],
   "source": [
    "page_metrics = page_metrics.pivot_table(values='value', index='hID', columns='name')[['page_impressions', 'page_cta_clicks_logged_in_total']]"
   ]
  },
  {
   "cell_type": "code",
   "execution_count": 7,
   "metadata": {},
   "outputs": [
    {
     "output_type": "execute_result",
     "data": {
      "text/plain": "           date   metric  impressions                  hID age_group age_min  \\\n4640 2019-01-01  U.35-44          4.0  3141727685331597704     35-44      35   \n4642 2019-01-02  M.25-34        242.0  3141727685331597704     25-34      25   \n4645 2019-01-06  F.55-64         67.0  3141727685331597704     55-64      55   \n4647 2019-01-01  F.55-64        133.0  3141727685331597704     55-64      55   \n4653 2019-01-03  M.45-54         86.0  3141727685331597704     45-54      45   \n\n     age_max  female  male  year  month  day  \n4640      44       1     1  2019      1    1  \n4642      34       0     1  2019      1    2  \n4645      64       1     0  2019      1    6  \n4647      64       1     0  2019      1    1  \n4653      54       0     1  2019      1    3  ",
      "text/html": "<div>\n<style scoped>\n    .dataframe tbody tr th:only-of-type {\n        vertical-align: middle;\n    }\n\n    .dataframe tbody tr th {\n        vertical-align: top;\n    }\n\n    .dataframe thead th {\n        text-align: right;\n    }\n</style>\n<table border=\"1\" class=\"dataframe\">\n  <thead>\n    <tr style=\"text-align: right;\">\n      <th></th>\n      <th>date</th>\n      <th>metric</th>\n      <th>impressions</th>\n      <th>hID</th>\n      <th>age_group</th>\n      <th>age_min</th>\n      <th>age_max</th>\n      <th>female</th>\n      <th>male</th>\n      <th>year</th>\n      <th>month</th>\n      <th>day</th>\n    </tr>\n  </thead>\n  <tbody>\n    <tr>\n      <th>4640</th>\n      <td>2019-01-01</td>\n      <td>U.35-44</td>\n      <td>4.0</td>\n      <td>3141727685331597704</td>\n      <td>35-44</td>\n      <td>35</td>\n      <td>44</td>\n      <td>1</td>\n      <td>1</td>\n      <td>2019</td>\n      <td>1</td>\n      <td>1</td>\n    </tr>\n    <tr>\n      <th>4642</th>\n      <td>2019-01-02</td>\n      <td>M.25-34</td>\n      <td>242.0</td>\n      <td>3141727685331597704</td>\n      <td>25-34</td>\n      <td>25</td>\n      <td>34</td>\n      <td>0</td>\n      <td>1</td>\n      <td>2019</td>\n      <td>1</td>\n      <td>2</td>\n    </tr>\n    <tr>\n      <th>4645</th>\n      <td>2019-01-06</td>\n      <td>F.55-64</td>\n      <td>67.0</td>\n      <td>3141727685331597704</td>\n      <td>55-64</td>\n      <td>55</td>\n      <td>64</td>\n      <td>1</td>\n      <td>0</td>\n      <td>2019</td>\n      <td>1</td>\n      <td>6</td>\n    </tr>\n    <tr>\n      <th>4647</th>\n      <td>2019-01-01</td>\n      <td>F.55-64</td>\n      <td>133.0</td>\n      <td>3141727685331597704</td>\n      <td>55-64</td>\n      <td>55</td>\n      <td>64</td>\n      <td>1</td>\n      <td>0</td>\n      <td>2019</td>\n      <td>1</td>\n      <td>1</td>\n    </tr>\n    <tr>\n      <th>4653</th>\n      <td>2019-01-03</td>\n      <td>M.45-54</td>\n      <td>86.0</td>\n      <td>3141727685331597704</td>\n      <td>45-54</td>\n      <td>45</td>\n      <td>54</td>\n      <td>0</td>\n      <td>1</td>\n      <td>2019</td>\n      <td>1</td>\n      <td>3</td>\n    </tr>\n  </tbody>\n</table>\n</div>"
     },
     "metadata": {},
     "execution_count": 7
    }
   ],
   "source": [
    "# Prepare the page_demo data for CPM imputations\n",
    "def clean_page_demo(data):\n",
    "\n",
    "    '''\n",
    "    1. Extract the demographic information such as age and gender\n",
    "    2. Extract time features such as year and month\n",
    "    3. Match the feature to the random forest model inputs\n",
    "    '''\n",
    "    \n",
    "    data['age_group'] = [i[2:] for i in data['metric']]\n",
    "    data['age_group'].replace({'65+':'65-85'},inplace=True)\n",
    "    data['age_min'] = [i[:2] for i in data['age_group']]\n",
    "    data['age_max'] = [i[-2:] for i in data['age_group']]\n",
    "    data['female'] = [1 if i[0] == 'F' or i[0] == 'U' else 0 for i in data['metric']]\n",
    "    data['male'] = [1 if i[0] == 'M' or i[0] == 'U' else 0 for i in data['metric']]\n",
    "    data['year'] = data['date'].dt.year\n",
    "    data['month'] = data['date'].dt.month\n",
    "    data['day'] = data['date'].dt.day\n",
    "    data.drop('name',axis=1,inplace=True)\n",
    "    data.rename({'value':'impressions'},axis=1,inplace=True)\n",
    "\n",
    "    return data\n",
    "\n",
    "page_demo = clean_page_demo(page_demo)\n",
    "page_demo.head()"
   ]
  },
  {
   "cell_type": "code",
   "execution_count": 8,
   "metadata": {},
   "outputs": [],
   "source": [
    "cpm.to_csv('clean_data/cpm.csv',index=False)\n",
    "page_demo.to_csv('clean_data/page_demo.csv',index=False)\n",
    "page_metrics.to_csv('clean_data/page_metrics.csv',index=False)"
   ]
  },
  {
   "cell_type": "code",
   "execution_count": null,
   "metadata": {},
   "outputs": [],
   "source": []
  }
 ],
 "metadata": {
  "language_info": {
   "codemirror_mode": {
    "name": "ipython",
    "version": 3
   },
   "file_extension": ".py",
   "mimetype": "text/x-python",
   "name": "python",
   "nbconvert_exporter": "python",
   "pygments_lexer": "ipython3",
   "version": "3.7.4-final"
  },
  "orig_nbformat": 2,
  "kernelspec": {
   "name": "python3",
   "display_name": "Python 3"
  }
 },
 "nbformat": 4,
 "nbformat_minor": 2
}